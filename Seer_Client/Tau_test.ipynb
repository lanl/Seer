{
 "cells": [
  {
   "cell_type": "code",
   "execution_count": 10,
   "metadata": {},
   "outputs": [],
   "source": [
    "import sys\n",
    "sys.path.insert(1,'/projects/insituperf/Seer/Seer_Client')"
   ]
  },
  {
   "cell_type": "code",
   "execution_count": 11,
   "metadata": {},
   "outputs": [
    {
     "ename": "RuntimeError",
     "evalue": "margo_init() returned MARGO_INSTANCE_NULL",
     "output_type": "error",
     "traceback": [
      "\u001b[0;31m---------------------------------------------------------------------------\u001b[0m",
      "\u001b[0;31mRuntimeError\u001b[0m                              Traceback (most recent call last)",
      "\u001b[0;32m<ipython-input-11-a4c5c97da055>\u001b[0m in \u001b[0;36m<module>\u001b[0;34m\u001b[0m\n\u001b[1;32m      1\u001b[0m \u001b[0;32mimport\u001b[0m \u001b[0mSeerClient\u001b[0m\u001b[0;34m\u001b[0m\u001b[0;34m\u001b[0m\u001b[0m\n\u001b[0;32m----> 2\u001b[0;31m \u001b[0mconn\u001b[0m \u001b[0;34m=\u001b[0m \u001b[0mSeerClient\u001b[0m\u001b[0;34m.\u001b[0m\u001b[0mSeerClient\u001b[0m\u001b[0;34m(\u001b[0m\u001b[0;34m\"ofi+tcp\"\u001b[0m\u001b[0;34m,\u001b[0m \u001b[0;34m\"ofi+tcp://192.168.3.148:36567\"\u001b[0m\u001b[0;34m,\u001b[0m \u001b[0;36m1\u001b[0m\u001b[0;34m,\u001b[0m \u001b[0;34m\"foo_test_2\"\u001b[0m\u001b[0;34m)\u001b[0m\u001b[0;34m\u001b[0m\u001b[0;34m\u001b[0m\u001b[0m\n\u001b[0m",
      "\u001b[0;32m~/projects/Seer/Seer_Client/SeerClient.py\u001b[0m in \u001b[0;36m__init__\u001b[0;34m(self, transport, address, p_id, db_n)\u001b[0m\n\u001b[1;32m     14\u001b[0m \u001b[0;34m\u001b[0m\u001b[0m\n\u001b[1;32m     15\u001b[0m     \u001b[0;32mdef\u001b[0m \u001b[0m__init__\u001b[0m\u001b[0;34m(\u001b[0m\u001b[0mself\u001b[0m\u001b[0;34m,\u001b[0m \u001b[0mtransport\u001b[0m\u001b[0;34m,\u001b[0m \u001b[0maddress\u001b[0m\u001b[0;34m,\u001b[0m \u001b[0mp_id\u001b[0m\u001b[0;34m,\u001b[0m \u001b[0mdb_n\u001b[0m\u001b[0;34m)\u001b[0m\u001b[0;34m:\u001b[0m\u001b[0;34m\u001b[0m\u001b[0;34m\u001b[0m\u001b[0m\n\u001b[0;32m---> 16\u001b[0;31m         \u001b[0mself\u001b[0m\u001b[0;34m.\u001b[0m\u001b[0mengine\u001b[0m \u001b[0;34m=\u001b[0m \u001b[0mEngine\u001b[0m\u001b[0;34m(\u001b[0m\u001b[0mtransport\u001b[0m\u001b[0;34m)\u001b[0m\u001b[0;34m\u001b[0m\u001b[0;34m\u001b[0m\u001b[0m\n\u001b[0m\u001b[1;32m     17\u001b[0m         \u001b[0mself\u001b[0m\u001b[0;34m.\u001b[0m\u001b[0mserver_addr\u001b[0m \u001b[0;34m=\u001b[0m \u001b[0maddress\u001b[0m\u001b[0;34m\u001b[0m\u001b[0;34m\u001b[0m\u001b[0m\n\u001b[1;32m     18\u001b[0m         \u001b[0mself\u001b[0m\u001b[0;34m.\u001b[0m\u001b[0mprovider_id\u001b[0m \u001b[0;34m=\u001b[0m \u001b[0mp_id\u001b[0m\u001b[0;34m\u001b[0m\u001b[0;34m\u001b[0m\u001b[0m\n",
      "\u001b[0;32m~/software/spack/opt/spack/linux-linuxmint20-skylake/gcc-9.3.0/py-mochi-margo-0.3.2-ojq7isaedh3rium4n24upfvdzdjacueb/lib/python3.8/site-packages/pymargo/core.py\u001b[0m in \u001b[0;36m__init__\u001b[0;34m(self, addr, mode, use_progress_thread, num_rpc_threads)\u001b[0m\n\u001b[1;32m     93\u001b[0m         \"\"\"\n\u001b[1;32m     94\u001b[0m         \u001b[0mself\u001b[0m\u001b[0;34m.\u001b[0m\u001b[0m_finalized\u001b[0m \u001b[0;34m=\u001b[0m \u001b[0;32mTrue\u001b[0m\u001b[0;34m\u001b[0m\u001b[0;34m\u001b[0m\u001b[0m\n\u001b[0;32m---> 95\u001b[0;31m         \u001b[0mself\u001b[0m\u001b[0;34m.\u001b[0m\u001b[0m_mid\u001b[0m \u001b[0;34m=\u001b[0m \u001b[0m_pymargo\u001b[0m\u001b[0;34m.\u001b[0m\u001b[0minit\u001b[0m\u001b[0;34m(\u001b[0m\u001b[0maddr\u001b[0m\u001b[0;34m,\u001b[0m \u001b[0mmode\u001b[0m\u001b[0;34m,\u001b[0m \u001b[0muse_progress_thread\u001b[0m\u001b[0;34m,\u001b[0m \u001b[0mnum_rpc_threads\u001b[0m\u001b[0;34m)\u001b[0m\u001b[0;34m\u001b[0m\u001b[0;34m\u001b[0m\u001b[0m\n\u001b[0m\u001b[1;32m     96\u001b[0m         \u001b[0mself\u001b[0m\u001b[0;34m.\u001b[0m\u001b[0m_finalized\u001b[0m \u001b[0;34m=\u001b[0m \u001b[0;32mFalse\u001b[0m\u001b[0;34m\u001b[0m\u001b[0;34m\u001b[0m\u001b[0m\n\u001b[1;32m     97\u001b[0m \u001b[0;34m\u001b[0m\u001b[0m\n",
      "\u001b[0;31mRuntimeError\u001b[0m: margo_init() returned MARGO_INSTANCE_NULL"
     ]
    }
   ],
   "source": [
    "import SeerClient\n",
    "conn = SeerClient.SeerClient(\"ofi+tcp\", \"ofi+tcp://192.168.3.148:36567\", 1, \"foo_test_2\")"
   ]
  },
  {
   "cell_type": "code",
   "execution_count": 8,
   "metadata": {},
   "outputs": [
    {
     "name": "stdout",
     "output_type": "stream",
     "text": [
      "0\n"
     ]
    }
   ],
   "source": [
    "current_timestep = conn.get_val(\"current_timestep\")\n",
    "print(current_timestep)"
   ]
  },
  {
   "cell_type": "code",
   "execution_count": 9,
   "metadata": {},
   "outputs": [
    {
     "name": "stdout",
     "output_type": "stream",
     "text": [
      "4\n"
     ]
    }
   ],
   "source": [
    "num_ranks = conn.get_val(\"numRanks\")\n",
    "print(num_ranks)"
   ]
  },
  {
   "cell_type": "code",
   "execution_count": 6,
   "metadata": {},
   "outputs": [],
   "source": [
    "db = conn.get_db()"
   ]
  },
  {
   "cell_type": "code",
   "execution_count": 7,
   "metadata": {},
   "outputs": [
    {
     "data": {
      "text/plain": [
       "['.TAU application_Calls_0_0',\n",
       " '.TAU application_Calls_1_0',\n",
       " '.TAU application_Calls_2_0',\n",
       " '.TAU application_Calls_3_0',\n",
       " '.TAU application_Exclusive_TIME0__0',\n",
       " '.TAU application_Exclusive_TIME1__0',\n",
       " '.TAU application_Exclusive_TIME2__0',\n",
       " '.TAU application_Exclusive_TIME3__0',\n",
       " '.TAU application_Inclusive_TIME_0_0',\n",
       " '.TAU application_Inclusive_TIME_1_0',\n",
       " '.TAU application_Inclusive_TIME_2_0',\n",
       " '.TAU application_Inclusive_TIME_3_0',\n",
       " 'MPI_Barrier()_Calls_0_0',\n",
       " 'MPI_Barrier()_Calls_1_0',\n",
       " 'MPI_Barrier()_Calls_2_0',\n",
       " 'MPI_Barrier()_Calls_3_0',\n",
       " 'MPI_Barrier()_Exclusive_TIME0__0',\n",
       " 'MPI_Barrier()_Exclusive_TIME1__0',\n",
       " 'MPI_Barrier()_Exclusive_TIME2__0',\n",
       " 'MPI_Barrier()_Exclusive_TIME3__0',\n",
       " 'MPI_Barrier()_Inclusive_TIME_0_0',\n",
       " 'MPI_Barrier()_Inclusive_TIME_1_0',\n",
       " 'MPI_Barrier()_Inclusive_TIME_2_0',\n",
       " 'MPI_Barrier()_Inclusive_TIME_3_0',\n",
       " 'MPI_Comm_rank()_Calls_0_0',\n",
       " 'MPI_Comm_rank()_Calls_1_0',\n",
       " 'MPI_Comm_rank()_Calls_2_0',\n",
       " 'MPI_Comm_rank()_Calls_3_0',\n",
       " 'MPI_Comm_rank()_Exclusive_TIME0__0',\n",
       " 'MPI_Comm_rank()_Exclusive_TIME1__0',\n",
       " 'MPI_Comm_rank()_Exclusive_TIME2__0',\n",
       " 'MPI_Comm_rank()_Exclusive_TIME3__0',\n",
       " 'MPI_Comm_rank()_Inclusive_TIME_0_0',\n",
       " 'MPI_Comm_rank()_Inclusive_TIME_1_0',\n",
       " 'MPI_Comm_rank()_Inclusive_TIME_2_0',\n",
       " 'MPI_Comm_rank()_Inclusive_TIME_3_0',\n",
       " 'MPI_Comm_size()_Calls_0_0',\n",
       " 'MPI_Comm_size()_Calls_1_0',\n",
       " 'MPI_Comm_size()_Calls_2_0',\n",
       " 'MPI_Comm_size()_Calls_3_0',\n",
       " 'MPI_Comm_size()_Exclusive_TIME0__0',\n",
       " 'MPI_Comm_size()_Exclusive_TIME1__0',\n",
       " 'MPI_Comm_size()_Exclusive_TIME2__0',\n",
       " 'MPI_Comm_size()_Exclusive_TIME3__0',\n",
       " 'MPI_Comm_size()_Inclusive_TIME_0_0',\n",
       " 'MPI_Comm_size()_Inclusive_TIME_1_0',\n",
       " 'MPI_Comm_size()_Inclusive_TIME_2_0',\n",
       " 'MPI_Comm_size()_Inclusive_TIME_3_0',\n",
       " 'MPI_Init_thread()_Calls_0_0',\n",
       " 'MPI_Init_thread()_Calls_1_0',\n",
       " 'MPI_Init_thread()_Calls_2_0',\n",
       " 'MPI_Init_thread()_Calls_3_0',\n",
       " 'MPI_Init_thread()_Exclusive_TIME0__0',\n",
       " 'MPI_Init_thread()_Exclusive_TIME1__0',\n",
       " 'MPI_Init_thread()_Exclusive_TIME2__0',\n",
       " 'MPI_Init_thread()_Exclusive_TIME3__0',\n",
       " 'MPI_Init_thread()_Inclusive_TIME_0_0',\n",
       " 'MPI_Init_thread()_Inclusive_TIME_1_0',\n",
       " 'MPI_Init_thread()_Inclusive_TIME_2_0',\n",
       " 'MPI_Init_thread()_Inclusive_TIME_3_0',\n",
       " 'Tau_plugin_mochi_dump_Calls_0_0',\n",
       " 'Tau_plugin_mochi_dump_Calls_1_0',\n",
       " 'Tau_plugin_mochi_dump_Calls_2_0',\n",
       " 'Tau_plugin_mochi_dump_Calls_3_0',\n",
       " 'Tau_plugin_mochi_dump_Exclusive_TIME0__0',\n",
       " 'Tau_plugin_mochi_dump_Exclusive_TIME1__0',\n",
       " 'Tau_plugin_mochi_dump_Exclusive_TIME2__0',\n",
       " 'Tau_plugin_mochi_dump_Exclusive_TIME3__0',\n",
       " 'Tau_plugin_mochi_dump_Inclusive_TIME_0_0',\n",
       " 'Tau_plugin_mochi_dump_Inclusive_TIME_1_0',\n",
       " 'Tau_plugin_mochi_dump_Inclusive_TIME_2_0',\n",
       " 'Tau_plugin_mochi_dump_Inclusive_TIME_3_0',\n",
       " 'addr=<0x5598cbd25800>_Calls_2_0',\n",
       " 'addr=<0x5598cbd25800>_Exclusive_TIME2__0',\n",
       " 'addr=<0x5598cbd25800>_Inclusive_TIME_2_0',\n",
       " 'addr=<0x5598cbd25840>_Calls_2_0',\n",
       " 'addr=<0x5598cbd25840>_Exclusive_TIME2__0',\n",
       " 'addr=<0x5598cbd25840>_Inclusive_TIME_2_0',\n",
       " 'addr=<0x5598cbd27ff0>_Calls_2_0',\n",
       " 'addr=<0x5598cbd27ff0>_Exclusive_TIME2__0',\n",
       " 'addr=<0x5598cbd27ff0>_Inclusive_TIME_2_0',\n",
       " 'addr=<0x55dc0a408800>_Calls_3_0',\n",
       " 'addr=<0x55dc0a408800>_Exclusive_TIME3__0',\n",
       " 'addr=<0x55dc0a408800>_Inclusive_TIME_3_0',\n",
       " 'addr=<0x55dc0a408840>_Calls_3_0',\n",
       " 'addr=<0x55dc0a408840>_Exclusive_TIME3__0',\n",
       " 'addr=<0x55dc0a408840>_Inclusive_TIME_3_0',\n",
       " 'addr=<0x55dc0a40aff0>_Calls_3_0',\n",
       " 'addr=<0x55dc0a40aff0>_Exclusive_TIME3__0',\n",
       " 'addr=<0x55dc0a40aff0>_Inclusive_TIME_3_0',\n",
       " 'addr=<0x55f6dc315800>_Calls_1_0',\n",
       " 'addr=<0x55f6dc315800>_Exclusive_TIME1__0',\n",
       " 'addr=<0x55f6dc315800>_Inclusive_TIME_1_0',\n",
       " 'addr=<0x55f6dc315840>_Calls_1_0',\n",
       " 'addr=<0x55f6dc315840>_Exclusive_TIME1__0',\n",
       " 'addr=<0x55f6dc315840>_Inclusive_TIME_1_0',\n",
       " 'addr=<0x55f6dc317ff0>_Calls_1_0',\n",
       " 'addr=<0x55f6dc317ff0>_Exclusive_TIME1__0',\n",
       " 'addr=<0x55f6dc317ff0>_Inclusive_TIME_1_0',\n",
       " 'addr=<0x565402b4f800>_Calls_0_0']"
      ]
     },
     "execution_count": 7,
     "metadata": {},
     "output_type": "execute_result"
    }
   ],
   "source": [
    "db.list_keys(num_keys=100)"
   ]
  },
  {
   "cell_type": "code",
   "execution_count": null,
   "metadata": {},
   "outputs": [],
   "source": [
    "db.get()"
   ]
  },
  {
   "cell_type": "code",
   "execution_count": null,
   "metadata": {},
   "outputs": [],
   "source": [
    "vals = conn.get_value_at_ts(\"PAPI_L1_LDM\", 46)\n",
    "print(vals)"
   ]
  },
  {
   "cell_type": "code",
   "execution_count": null,
   "metadata": {},
   "outputs": [],
   "source": [
    "vals = conn.get_value_at_ts(\"PAPI_L1_LDM\", 47)\n",
    "print(vals)"
   ]
  },
  {
   "cell_type": "code",
   "execution_count": null,
   "metadata": {},
   "outputs": [],
   "source": [
    "#conn.set(\"ADD_CATALYST_SCRIPT\",\"/projects/insituperf/InWrap/scripts/catalyst/miniAppUnstr_views.py\")"
   ]
  },
  {
   "cell_type": "code",
   "execution_count": null,
   "metadata": {},
   "outputs": [],
   "source": [
    "conn.set(\"PAPI:ADD\",\"PAPI_L1_LDM\")\n",
    "conn.commit()"
   ]
  },
  {
   "cell_type": "code",
   "execution_count": null,
   "metadata": {},
   "outputs": [],
   "source": [
    "test = conn.get_val(\"00000000@PAPI_L1_ICM#0|0\")\n",
    "print(test)"
   ]
  },
  {
   "cell_type": "code",
   "execution_count": null,
   "metadata": {},
   "outputs": [],
   "source": []
  },
  {
   "cell_type": "code",
   "execution_count": null,
   "metadata": {},
   "outputs": [],
   "source": [
    "num_papi_counters = conn.get_val(\"num_papi_counters\")\n",
    "print(num_papi_counters)"
   ]
  },
  {
   "cell_type": "code",
   "execution_count": null,
   "metadata": {},
   "outputs": [],
   "source": [
    "test2 = conn.get_val(\"7d48e5e7@PAPI_L1_LDM#2|46\")\n",
    "print(test2)"
   ]
  },
  {
   "cell_type": "code",
   "execution_count": null,
   "metadata": {},
   "outputs": [],
   "source": []
  },
  {
   "cell_type": "code",
   "execution_count": null,
   "metadata": {},
   "outputs": [],
   "source": [
    "num_papi_counters = int(conn.get_val(\"num_papi_counters\"))\n",
    "print(num_papi_counters)\n",
    "papi_counters = []\n",
    "for i in range(num_papi_counters):\n",
    "    key = \"papi_counter_\" + str(i)\n",
    "    papi_counters.append(conn.get_val(key))\n",
    "\n",
    "print(papi_counters)"
   ]
  },
  {
   "cell_type": "code",
   "execution_count": null,
   "metadata": {},
   "outputs": [],
   "source": [
    "import numpy as np\n",
    "import matplotlib.pyplot as plt\n",
    "num_timesteps = int(conn.get_val(\"current_timestep\"))-1\n",
    "print(num_timesteps)\n",
    "num_ranks = int(conn.get_val(\"numRanks\"))\n",
    "\n",
    "counters = []\n",
    "count = 0\n",
    "for p in papi_counters:\n",
    "    r_counter = []\n",
    "    for r in range(num_ranks):\n",
    "        key = p + \"_\" + str(r)\n",
    "        value = conn.get_val(key)\n",
    "        r_counter.append(int(value))\n",
    "    counters.append(r_counter)\n",
    "    count =  count + 1\n",
    "    \n",
    "print(counters)\n",
    "print(num_ranks)\n",
    "ranks = np.arange(num_ranks)\n",
    "print(ranks)\n",
    "\n",
    "#plt.plot(ranks, counters[0], label=papi_counters[0], linestyle='-', marker='o')\n",
    "#plt.plot(ranks, counters[1], label=papi_counters[1], linestyle='-', marker='x')\n",
    "plt.plot(ranks, counters[2], label=papi_counters[2], linestyle='-', marker='.')\n",
    "plt.legend()\n",
    "plt.title(\"Papi counters, ts\" + str(num_timesteps))"
   ]
  },
  {
   "cell_type": "code",
   "execution_count": null,
   "metadata": {},
   "outputs": [],
   "source": [
    "import numpy as np\n",
    "import matplotlib.pyplot as plt\n",
    "num_timesteps = int(conn.get_val(\"current_timestep\"))-1\n",
    "print(num_timesteps)\n",
    "num_ranks = int(conn.get_val(\"numRanks\"))\n",
    "\n",
    "counters = []\n",
    "count = 0\n",
    "for p in papi_counters:\n",
    "    r_counter = []\n",
    "    for r in range(num_ranks):\n",
    "        key = p + \"_\" + str(r)\n",
    "        value = conn.get_val(key)\n",
    "        r_counter.append(int(value))\n",
    "    counters.append(r_counter)\n",
    "    count =  count + 1\n",
    "    \n",
    "print(counters)\n",
    "print(num_ranks)\n",
    "ranks = np.arange(num_ranks)\n",
    "print(ranks)\n",
    "\n",
    "#plt.plot(ranks, counters[0], label=papi_counters[0], linestyle='-', marker='o')\n",
    "plt.plot(ranks, counters[1], label=papi_counters[1], linestyle='-', marker='x')\n",
    "#plt.plot(ranks, counters[2], label=papi_counters[2], linestyle='-', marker='.')\n",
    "plt.legend()\n",
    "plt.title(\"Papi counters, ts\" + str(num_timesteps))"
   ]
  },
  {
   "cell_type": "code",
   "execution_count": null,
   "metadata": {},
   "outputs": [],
   "source": []
  },
  {
   "cell_type": "code",
   "execution_count": null,
   "metadata": {},
   "outputs": [],
   "source": []
  }
 ],
 "metadata": {
  "kernelspec": {
   "display_name": "Python 3",
   "language": "python",
   "name": "python3"
  },
  "language_info": {
   "codemirror_mode": {
    "name": "ipython",
    "version": 3
   },
   "file_extension": ".py",
   "mimetype": "text/x-python",
   "name": "python",
   "nbconvert_exporter": "python",
   "pygments_lexer": "ipython3",
   "version": "3.8.3"
  }
 },
 "nbformat": 4,
 "nbformat_minor": 2
}
