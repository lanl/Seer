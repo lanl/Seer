{
 "cells": [
  {
   "cell_type": "code",
   "execution_count": 1,
   "metadata": {},
   "outputs": [],
   "source": [
    "import InSituMetricsVis\n",
    "import InSituVariable"
   ]
  },
  {
   "cell_type": "code",
   "execution_count": 2,
   "metadata": {},
   "outputs": [],
   "source": [
    "isv = InSituMetricsVis.InSituMetricsVis()"
   ]
  },
  {
   "cell_type": "code",
   "execution_count": 3,
   "metadata": {},
   "outputs": [],
   "source": [
    "## Create some fake data with 8 ranks\n",
    "import random\n",
    "import numpy as np\n",
    "\n",
    "numRanks = 8\n",
    "temp_ts10 = [random.randrange(50, 100, 1) for i in range(numRanks)]\n",
    "cache_ts10 = [random.randrange(50, 100, 1) for i in range(numRanks)]\n",
    "\n",
    "temp_ts11 = [random.randrange(50, 100, 1) for i in range(numRanks)]\n",
    "cache_ts11 = [random.randrange(50, 100, 1) for i in range(numRanks)]\n",
    "\n",
    "temp_ts12 = [random.randrange(50, 100, 1) for i in range(numRanks)]\n",
    "cache_ts12 = [random.randrange(50, 100, 1) for i in range(numRanks)]\n",
    "\n",
    "temp_ts13 = [random.randrange(50, 100, 1) for i in range(numRanks)]\n",
    "cache_ts13 = [random.randrange(50, 100, 1) for i in range(numRanks)]\n",
    "\n",
    "#print(temp_ts10)\n",
    "\n",
    "isv.add_metric(\"temperature\")\n",
    "isv.add_timestep(\"temperature\", 10, temp_ts10)\n",
    "isv.add_timestep(\"temperature\", 11, temp_ts11)\n",
    "isv.add_timestep(\"temperature\", 12, temp_ts12)\n",
    "isv.add_timestep(\"temperature\", 13, temp_ts13)\n",
    "\n",
    "isv.add_metric(\"cache\")\n",
    "isv.add_timestep(\"cache\", 10, cache_ts10)\n",
    "isv.add_timestep(\"cache\", 11, cache_ts11)\n",
    "isv.add_timestep(\"cache\", 12, cache_ts12)\n",
    "isv.add_timestep(\"cache\", 13, cache_ts13)\n",
    "\n"
   ]
  },
  {
   "cell_type": "code",
   "execution_count": 4,
   "metadata": {},
   "outputs": [],
   "source": [
    "insituVar = InSituVariable.Dataset()"
   ]
  },
  {
   "cell_type": "code",
   "execution_count": null,
   "metadata": {},
   "outputs": [],
   "source": [
    "# Creating dataset\n",
    "numPointsPerRank = 32\n",
    "offsets = [0, 32, 64, 96, 128, 160, 192, 224]\n",
    "x = []\n",
    "y = []\n",
    "z = []\n",
    "for offset in offsets:\n",
    "    _x = np.random.randint(low=0, high=256, size=numPointsPerRank).tolist()\n",
    "    _y = np.random.randint(low=0, high=256, size=numPointsPerRank).tolist()\n",
    "    _z = np.random.randint(low=offset, high=offset+32, size=numPointsPerRank).tolist()\n",
    "\n",
    "    z.append(_x)\n",
    "    y.append(_y)\n",
    "    z.append(_z)\n",
    "    \n",
    "phi = []\n",
    "for i in range(numPointsPerRank*numRanks):\n",
    "    phi.append(random.uniform(0.0, 1.0))\n",
    "\n",
    "var_x = InSituVariable.Variable(\"x\",\"points\")\n",
    "var_x.addVariable(x,10)\n",
    "\n",
    "var_y = InSituVariable.Variable(\"y\",\"points\")\n",
    "var_y.addVariable(y,10)\n",
    "\n",
    "var_z = InSituVariable.Variable(\"z\",\"points\")\n",
    "var_z.addVariable(z,10)\n",
    "\n",
    "ts_variables[10]\n",
    "#print(x)\n",
    "#print(y)\n",
    "#print(z)\n",
    "\n",
    "#print(phi)"
   ]
  },
  {
   "cell_type": "code",
   "execution_count": null,
   "metadata": {},
   "outputs": [],
   "source": []
  },
  {
   "cell_type": "code",
   "execution_count": null,
   "metadata": {},
   "outputs": [],
   "source": []
  }
 ],
 "metadata": {
  "kernelspec": {
   "display_name": "Python 3",
   "language": "python",
   "name": "python3"
  },
  "language_info": {
   "codemirror_mode": {
    "name": "ipython",
    "version": 3
   },
   "file_extension": ".py",
   "mimetype": "text/x-python",
   "name": "python",
   "nbconvert_exporter": "python",
   "pygments_lexer": "ipython3",
   "version": "3.8.3"
  }
 },
 "nbformat": 4,
 "nbformat_minor": 4
}
