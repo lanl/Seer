{
 "cells": [
  {
   "cell_type": "code",
   "execution_count": null,
   "metadata": {},
   "outputs": [],
   "source": [
    "import InSituMetricsVis\n",
    "import random\n",
    "isv = InSituMetricsVis.InSituMetricsVis()"
   ]
  },
  {
   "cell_type": "code",
   "execution_count": null,
   "metadata": {},
   "outputs": [],
   "source": [
    "vals0 = [random.randrange(1, 50, 1) for i in range(8)]\n",
    "print(vals0)\n",
    "isv.add_metric(\"temp\")\n",
    "isv.add_timestep(\"temp\",0,vals0)"
   ]
  },
  {
   "cell_type": "code",
   "execution_count": null,
   "metadata": {},
   "outputs": [],
   "source": [
    "temp = isv.get_values(\"temp\", 0)\n",
    "print(temp)"
   ]
  },
  {
   "cell_type": "code",
   "execution_count": null,
   "metadata": {},
   "outputs": [],
   "source": [
    "isv.plot(\"temp\",0)"
   ]
  },
  {
   "cell_type": "code",
   "execution_count": null,
   "metadata": {},
   "outputs": [],
   "source": [
    "vals1 = [random.randrange(1, 50, 1) for i in range(8)]\n",
    "vals2 = [random.randrange(1, 50, 1) for i in range(8)]\n",
    "vals3 = [random.randrange(1, 50, 1) for i in range(8)]\n",
    "vals4 = [random.randrange(1, 50, 1) for i in range(8)]\n",
    "\n",
    "isv.add_timestep(\"temp\",1,vals1)\n",
    "isv.add_timestep(\"temp\",2,vals2)\n",
    "isv.add_timestep(\"temp\",3,vals3)\n",
    "isv.add_timestep(\"temp\",4,vals4)"
   ]
  },
  {
   "cell_type": "code",
   "execution_count": null,
   "metadata": {},
   "outputs": [],
   "source": [
    "isv.plot(\"temp\")"
   ]
  },
  {
   "cell_type": "code",
   "execution_count": null,
   "metadata": {},
   "outputs": [],
   "source": []
  }
 ],
 "metadata": {
  "kernelspec": {
   "display_name": "Python 3",
   "language": "python",
   "name": "python3"
  },
  "language_info": {
   "codemirror_mode": {
    "name": "ipython",
    "version": 3
   },
   "file_extension": ".py",
   "mimetype": "text/x-python",
   "name": "python",
   "nbconvert_exporter": "python",
   "pygments_lexer": "ipython3",
   "version": "3.8.3"
  }
 },
 "nbformat": 4,
 "nbformat_minor": 2
}
